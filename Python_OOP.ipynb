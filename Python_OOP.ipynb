{
  "nbformat": 4,
  "nbformat_minor": 0,
  "metadata": {
    "colab": {
      "provenance": [],
      "authorship_tag": "ABX9TyO+duxC8bSBbjc6NU09y5Ll"
    },
    "kernelspec": {
      "name": "python3",
      "display_name": "Python 3"
    },
    "language_info": {
      "name": "python"
    }
  },
  "cells": [
    {
      "cell_type": "markdown",
      "source": [
        "**Class declaration**"
      ],
      "metadata": {
        "id": "DvzWUwARZdoJ"
      }
    },
    {
      "cell_type": "code",
      "execution_count": null,
      "metadata": {
        "id": "6VZuB3bhVrc5"
      },
      "outputs": [],
      "source": [
        "class Employee:\n",
        "\n",
        "  ##class varible\n",
        "  raise_amnt=1.05\n",
        "\n",
        "  def __init__(self,first,last,pay):\n",
        "      self.first=first\n",
        "      self.last=last\n",
        "      self.pay=pay\n",
        "\n",
        "  def fullnamewithpay(self):\n",
        "    return '{} {} {}'.format(self.first,self.last,self.pay)\n",
        "\n",
        "  def apply_raise(self):\n",
        "    self.pay=int(self.pay * Employee.raise_amnt)   ## class variable can only be called from a class or instance\n",
        "\n",
        "  ##class method \n",
        "  ## ****regular method in class takes self as default 1st argument, class method takes cls the class as default ***\n",
        "  @classmethod\n",
        "  def set_raise_amnt(cls,amount) :\n",
        "    cls.raise_amnt=amount\n",
        "\n",
        "  ##static method\n",
        "  ## doesn't need any instance or class, can be called directly by class name\n",
        "  @staticmethod\n",
        "  def is_workday(day):\n",
        "    if day.weekday()==5 or day.weekday()==6:\n",
        "      return False\n",
        "    return True     "
      ]
    },
    {
      "cell_type": "code",
      "source": [
        "emp1=Employee('Debasish','Ghosh',12346)\n",
        "emp2=Employee('Coley','Brian',10096)"
      ],
      "metadata": {
        "id": "DUt_E73PWKna"
      },
      "execution_count": null,
      "outputs": []
    },
    {
      "cell_type": "code",
      "source": [
        "print('Emp1 name is {} {}'.format(emp1.first,emp1.last))\n",
        "print('Emp2 name is {} {}'.format(emp2.first,emp2.last))"
      ],
      "metadata": {
        "colab": {
          "base_uri": "https://localhost:8080/"
        },
        "id": "zLS1PgC1WKqG",
        "outputId": "e6b66af1-8fcc-4cf2-cd17-f736d3193b4a"
      },
      "execution_count": null,
      "outputs": [
        {
          "output_type": "stream",
          "name": "stdout",
          "text": [
            "Emp1 name is Debasish Ghosh\n",
            "Emp2 name is Coley Brian\n"
          ]
        }
      ]
    },
    {
      "cell_type": "code",
      "source": [
        "print('Emp1 fullnamewithpay is {}'.format(emp1.fullnamewithpay()))\n",
        "print('Emp2 fullnamewithpay is {}'.format(emp2.fullnamewithpay()))"
      ],
      "metadata": {
        "colab": {
          "base_uri": "https://localhost:8080/"
        },
        "id": "WiefoQiwWKs4",
        "outputId": "b34a6216-ca2c-435b-a301-24c15c30bfaa"
      },
      "execution_count": null,
      "outputs": [
        {
          "output_type": "stream",
          "name": "stdout",
          "text": [
            "Emp1 fullnamewithpay is Debasish Ghosh 12346\n",
            "Emp2 fullnamewithpay is Coley Brian 10096\n"
          ]
        }
      ]
    },
    {
      "cell_type": "code",
      "source": [
        "print('Emp1 pay after raise {}'.format(emp1.apply_raise()))\n",
        "print('Emp2 pay after raise {}'.format(emp2.apply_raise()))"
      ],
      "metadata": {
        "colab": {
          "base_uri": "https://localhost:8080/"
        },
        "id": "8Tny0ehwa7G0",
        "outputId": "651cb600-4bf3-4722-8b02-88063f099432"
      },
      "execution_count": null,
      "outputs": [
        {
          "output_type": "stream",
          "name": "stdout",
          "text": [
            "Emp1 pay after raise None\n",
            "Emp2 pay after raise None\n"
          ]
        }
      ]
    },
    {
      "cell_type": "code",
      "source": [
        "print(Employee.raise_amnt)\n",
        "print(emp1.raise_amnt)\n",
        "print(emp2.raise_amnt)"
      ],
      "metadata": {
        "colab": {
          "base_uri": "https://localhost:8080/"
        },
        "id": "DW8K0ksbdIHB",
        "outputId": "ee095c0e-f0dd-444b-d140-b4575810b3f5"
      },
      "execution_count": null,
      "outputs": [
        {
          "output_type": "stream",
          "name": "stdout",
          "text": [
            "1.05\n",
            "1.05\n",
            "1.05\n"
          ]
        }
      ]
    },
    {
      "cell_type": "code",
      "source": [
        "## Lets call the class method on class name\n",
        "Employee.set_raise_amnt(1.08)"
      ],
      "metadata": {
        "id": "r4G51U7vdIJo"
      },
      "execution_count": null,
      "outputs": []
    },
    {
      "cell_type": "code",
      "source": [
        "## new raise_amnt for each \n",
        "print(Employee.raise_amnt)\n",
        "print(emp1.raise_amnt)\n",
        "print(emp2.raise_amnt)"
      ],
      "metadata": {
        "colab": {
          "base_uri": "https://localhost:8080/"
        },
        "id": "aD3RT3Tbd6Ho",
        "outputId": "a80bdc08-94c8-4dcb-b48b-92ed65ee7fb8"
      },
      "execution_count": null,
      "outputs": [
        {
          "output_type": "stream",
          "name": "stdout",
          "text": [
            "1.08\n",
            "1.08\n",
            "1.08\n"
          ]
        }
      ]
    },
    {
      "cell_type": "code",
      "source": [
        "##call static method\n",
        "import datetime\n",
        "my_date=datetime.date(2006,2,2)\n",
        "\n",
        "print(Employee.is_workday(my_date))"
      ],
      "metadata": {
        "colab": {
          "base_uri": "https://localhost:8080/"
        },
        "id": "Tx7hycr7d6Jh",
        "outputId": "4cc0349d-770f-435e-bd35-877c4c7c1736"
      },
      "execution_count": null,
      "outputs": [
        {
          "output_type": "stream",
          "name": "stdout",
          "text": [
            "True\n"
          ]
        }
      ]
    },
    {
      "cell_type": "markdown",
      "source": [
        "**Inheritance**"
      ],
      "metadata": {
        "id": "BjHlqlUkkNCX"
      }
    },
    {
      "cell_type": "code",
      "source": [
        "## create a subclass developer of employee class\n",
        "class Developer(Employee):\n",
        "\n",
        "  def __init__(self,first,last,pay,prog_lang):\n",
        "    super().__init__(first,last,pay)\n",
        "    self.prog_lang=prog_lang"
      ],
      "metadata": {
        "id": "vvlBKiDCd6MC"
      },
      "execution_count": null,
      "outputs": []
    },
    {
      "cell_type": "code",
      "source": [
        "dev1=Developer('Debasish','Ghosh',12346,'Python')\n",
        "dev2=Developer('Coley','Brian',10096,'C#')"
      ],
      "metadata": {
        "id": "-nESq6tMd6Oo"
      },
      "execution_count": null,
      "outputs": []
    },
    {
      "cell_type": "code",
      "source": [
        "print('dev1 fullname with pay is {}'.format(dev1.fullnamewithpay()))\n",
        "print('dev2 fullname with pay is {}'.format(dev2.fullnamewithpay()))"
      ],
      "metadata": {
        "colab": {
          "base_uri": "https://localhost:8080/"
        },
        "id": "nwuEf-UlWKx5",
        "outputId": "76902664-3893-4078-c323-56ab5165ac6c"
      },
      "execution_count": null,
      "outputs": [
        {
          "output_type": "stream",
          "name": "stdout",
          "text": [
            "dev1 fullname with pay is Debasish Ghosh 12346\n",
            "dev2 fullname with pay is Coley Brian 10096\n"
          ]
        }
      ]
    },
    {
      "cell_type": "code",
      "source": [
        "print('dev1 programming lang is {}'.format(dev1.prog_lang))\n",
        "print('dev2 programming lang is {}'.format(dev2.prog_lang))"
      ],
      "metadata": {
        "colab": {
          "base_uri": "https://localhost:8080/"
        },
        "id": "3Zdo_JYiWK0G",
        "outputId": "93927d32-ecba-44fe-dbb8-897fd77c49c2"
      },
      "execution_count": null,
      "outputs": [
        {
          "output_type": "stream",
          "name": "stdout",
          "text": [
            "dev1 programming lang is Python\n",
            "dev2 programming lang is C#\n"
          ]
        }
      ]
    },
    {
      "cell_type": "code",
      "source": [
        "##create another sub class Manager\n",
        "class Manager(Employee):\n",
        "  def __init__(self,first,last,pay,employees=None):\n",
        "    super().__init__(first,last,pay)\n",
        "    if employees is None:\n",
        "      self.employees=[]\n",
        "    else:\n",
        "      self.employees=employees  \n",
        "\n",
        "  def add_emp(self,emp):\n",
        "    if emp not in self.employees:\n",
        "      self.employess.append(emp)\n",
        "\n",
        "  def remove_emp(self,emp):\n",
        "    if emp in self.employees:\n",
        "      self.employess.remove(emp)      \n",
        "\n",
        "  def print_emps(self):\n",
        "    for emp in self.employees:\n",
        "      print('->',emp.first)        "
      ],
      "metadata": {
        "id": "RHT8G4xcl8AN"
      },
      "execution_count": null,
      "outputs": []
    },
    {
      "cell_type": "code",
      "source": [
        "mngr1=Manager('Amit','Sen',17000,[dev1,dev2])\n",
        "#dev2=Developer('Coley','Brian',10096,'C#')"
      ],
      "metadata": {
        "id": "DrnCkAZ-l8Cq"
      },
      "execution_count": null,
      "outputs": []
    },
    {
      "cell_type": "code",
      "source": [
        "mngr1.print_emps()"
      ],
      "metadata": {
        "colab": {
          "base_uri": "https://localhost:8080/"
        },
        "id": "xBdQTboWl8FW",
        "outputId": "6ad8eb73-9461-4d34-bf28-521f07701039"
      },
      "execution_count": null,
      "outputs": [
        {
          "output_type": "stream",
          "name": "stdout",
          "text": [
            "-> Debasish\n",
            "-> Coley\n"
          ]
        }
      ]
    },
    {
      "cell_type": "code",
      "source": [],
      "metadata": {
        "id": "3ccCSu1Ho0ob"
      },
      "execution_count": null,
      "outputs": []
    },
    {
      "cell_type": "code",
      "source": [],
      "metadata": {
        "id": "9O5knU1Ao0rJ"
      },
      "execution_count": null,
      "outputs": []
    },
    {
      "cell_type": "code",
      "source": [],
      "metadata": {
        "id": "qq5oabQdo0th"
      },
      "execution_count": null,
      "outputs": []
    },
    {
      "cell_type": "code",
      "source": [],
      "metadata": {
        "id": "R0mYn6-nWK2z"
      },
      "execution_count": null,
      "outputs": []
    }
  ]
}